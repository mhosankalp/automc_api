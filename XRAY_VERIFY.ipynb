{
 "cells": [
  {
   "cell_type": "code",
   "execution_count": 1,
   "metadata": {},
   "outputs": [
    {
     "name": "stderr",
     "output_type": "stream",
     "text": [
      "Using TensorFlow backend.\n"
     ]
    }
   ],
   "source": [
    "import keras\n",
    "#from keras.preprocessing.image import ImageDataGenerator"
   ]
  },
  {
   "cell_type": "code",
   "execution_count": 2,
   "metadata": {},
   "outputs": [],
   "source": [
    "model_file = './model/weights.epoch_02.hdf5'\n",
    "model = keras.models.load_model(model_file)"
   ]
  },
  {
   "cell_type": "code",
   "execution_count": 18,
   "metadata": {},
   "outputs": [],
   "source": [
    "testing_dir = r\"data\"\n",
    "rescale = 1./255\n",
    "target_size = (150, 150)\n",
    "class_mode = \"categorical\""
   ]
  },
  {
   "cell_type": "code",
   "execution_count": 4,
   "metadata": {},
   "outputs": [
    {
     "name": "stdout",
     "output_type": "stream",
     "text": [
      "Found 1 images belonging to 1 classes.\n"
     ]
    }
   ],
   "source": [
    "test_datagen = ImageDataGenerator(rescale=rescale)\n",
    "\n",
    "test_generator = test_datagen.flow_from_directory(\n",
    "    testing_dir,\n",
    "    target_size=target_size,\n",
    "    class_mode=class_mode,\n",
    "    shuffle = False)"
   ]
  },
  {
   "cell_type": "code",
   "execution_count": 3,
   "metadata": {},
   "outputs": [],
   "source": [
    "#import matplotlib.pyplot as plt\n",
    "#import tensorflow.keras as tfk\n",
    "import numpy as np\n",
    "#import pandas as pd\n",
    "#import skimage\n",
    "import os\n",
    "import cv2\n",
    "import tqdm\n",
    "import skimage.transform\n",
    "def extract_data(path_directory):\n",
    "    X = []\n",
    "    y = []\n",
    "    for nextdirectory in os.listdir(path_directory):\n",
    "        if not nextdirectory.startswith('.'):\n",
    "            if nextdirectory in ['NORMAL']:\n",
    "                label = 0\n",
    "            elif nextdirectory in ['PNEUMONIA']:\n",
    "                label = 1\n",
    "            else:\n",
    "                label = 2\n",
    "                \n",
    "            temp = path_directory + nextdirectory\n",
    "                \n",
    "            for file in tqdm.tqdm(os.listdir(temp)):\n",
    "                img = cv2.imread(temp + '/' + file)\n",
    "                if img is not None:\n",
    "                    img = skimage.transform.resize(img, (150, 150, 3))\n",
    "                    img = np.asarray(img)\n",
    "                    X.append(img)\n",
    "                    y.append(label)\n",
    "                    \n",
    "    X = np.asarray(X)\n",
    "    y = np.asarray(y)\n",
    "    return X,y"
   ]
  },
  {
   "cell_type": "code",
   "execution_count": 4,
   "metadata": {},
   "outputs": [
    {
     "name": "stderr",
     "output_type": "stream",
     "text": [
      "100%|██████████| 1/1 [00:00<00:00, 12.17it/s]\n",
      "100%|██████████| 2/2 [00:00<00:00,  3.58it/s]\n"
     ]
    }
   ],
   "source": [
    "TEST_PATH = \"./data/test/\"\n",
    "X_test , y_test = extract_data(TEST_PATH)"
   ]
  },
  {
   "cell_type": "code",
   "execution_count": 7,
   "metadata": {},
   "outputs": [
    {
     "name": "stdout",
     "output_type": "stream",
     "text": [
      "1\n"
     ]
    }
   ],
   "source": [
    "pred = model.predict(X_test)\n",
    "pred = np.argmax(pred,axis = 1) \n",
    "print(pred[0])"
   ]
  },
  {
   "cell_type": "code",
   "execution_count": 3,
   "metadata": {},
   "outputs": [],
   "source": [
    "#import matplotlib.pyplot as plt\n",
    "#import tensorflow.keras as tfk\n",
    "import numpy as np\n",
    "#import pandas as pd\n",
    "#import skimage\n",
    "#import os\n",
    "import cv2\n",
    "#import tqdm\n",
    "import skimage.transform\n",
    "X = []\n",
    "img = cv2.imread('./data/person1_virus_6.jpeg')\n",
    "if img is not None:\n",
    "    img = skimage.transform.resize(img, (150, 150, 3))\n",
    "    img = np.asarray(img)\n",
    "    X.append(img)\n",
    "                    \n",
    "X_test1 = np.asarray(X)"
   ]
  },
  {
   "cell_type": "code",
   "execution_count": 4,
   "metadata": {},
   "outputs": [
    {
     "name": "stdout",
     "output_type": "stream",
     "text": [
      "1\n"
     ]
    }
   ],
   "source": [
    "pred = model.predict(X_test1)\n",
    "pred = np.argmax(pred,axis = 1) \n",
    "print(pred[0])"
   ]
  },
  {
   "cell_type": "code",
   "execution_count": 5,
   "metadata": {},
   "outputs": [
    {
     "name": "stdout",
     "output_type": "stream",
     "text": [
      "\r",
      "1/1 [==============================] - 0s 249ms/step\n"
     ]
    }
   ],
   "source": [
    "y_pred = model.predict_generator(test_generator, steps=len(test_generator), verbose=1)  \n",
    "y_pred = y_pred.argmax(axis=-1)\n",
    "y_true=test_generator.classes"
   ]
  },
  {
   "cell_type": "code",
   "execution_count": 10,
   "metadata": {},
   "outputs": [],
   "source": [
    "def get_reset_plot_params(figsize=(15, 5), title=\"\", xlabel =\"\", ylabel=\"\", legends=[], title_fontsize = 18, label_fontsize = 14, image_file_name=\"\", save = False, dpi=100, update_image=True):\n",
    "    plot_params = {}\n",
    "    \n",
    "    plot_params[\"figsize\"] = figsize\n",
    "    \n",
    "    plot_params[\"title\"] = title\n",
    "    \n",
    "    plot_params[\"xlabel\"] = xlabel\n",
    "    plot_params[\"ylabel\"] = ylabel\n",
    "    \n",
    "    plot_params[\"legends\"] = legends \n",
    "    \n",
    "    plot_params[\"title_fontsize\"] = title_fontsize\n",
    "    plot_params[\"axes.titlesize\"] = \"small\"\n",
    "    plot_params[\"label_fontsize\"] = label_fontsize\n",
    "    \n",
    "    plot_params[\"image_file_name\"] = image_file_name\n",
    "    plot_params[\"save\"] = save\n",
    "    plot_params[\"update_image\"] = update_image\n",
    "    \n",
    "    plot_params[\"subplot\"] = None\n",
    "    return plot_params"
   ]
  },
  {
   "cell_type": "code",
   "execution_count": 11,
   "metadata": {},
   "outputs": [],
   "source": [
    "def get_reset_subplot_params(nrows, ncols, dpi):\n",
    "    subplot_params = {}\n",
    "    subplot_params[\"nrows\"] = nrows\n",
    "    subplot_params[\"ncols\"] = ncols\n",
    "\n",
    "    subplot_params[\"figsize_col\"] = subplot_params[\"ncols\"]*2.5\n",
    "    subplot_params[\"figsize_row\"] = subplot_params[\"nrows\"]*2.5\n",
    "    subplot_params[\"dpi\"] = dpi\n",
    "    subplot_params[\"facecolor\"] = 'w'\n",
    "    subplot_params[\"edgecolor\"] = 'k'\n",
    "    subplot_params[\"subplot_kw\"] = {'xticks': [], 'yticks': []}\n",
    "    subplot_params[\"axes.titlesize\"] = 'small'\n",
    "    subplot_params[\"hspace\"] = 0.5\n",
    "    subplot_params[\"wspace\"] = 0.3\n",
    "    \n",
    "    return subplot_params"
   ]
  },
  {
   "cell_type": "code",
   "execution_count": 12,
   "metadata": {},
   "outputs": [
    {
     "name": "stdout",
     "output_type": "stream",
     "text": [
      "{0: 'N', 1: 'P'}\n"
     ]
    }
   ],
   "source": [
    "class_map = {v: k for k, v in test_generator.class_indices.items()}\n",
    "print(class_map)\n",
    "dpi=100\n",
    "ncols = 1\n",
    "nrows = 1\n",
    "subplot_params = get_reset_subplot_params(nrows, ncols, dpi)\n",
    "plot_params = get_reset_plot_params()"
   ]
  },
  {
   "cell_type": "code",
   "execution_count": 19,
   "metadata": {},
   "outputs": [],
   "source": [
    "def show_predictions(y_true, y_pred, subplot_params, plot_params, class_map, testing_dir, count=1, sample=True):\n",
    "    fig, axs = get_fig_axs(subplot_params)\n",
    "    plt.rcParams.update({'axes.titlesize': plot_params[\"axes.titlesize\"]})\n",
    "    plt.subplots_adjust(hspace=subplot_params[\"hspace\"], wspace=subplot_params[\"wspace\"])\n",
    "    \n",
    "    file_names = test_generator.filenames\n",
    "    #print(testing_dir+\"/\"+ file_names[1])\n",
    "    m = {}\n",
    "    length = len(y_true)\n",
    "    for i in range(0, count): \n",
    "        num = i\n",
    "        if sample:\n",
    "            num = random.randint(0, length-1)\n",
    "            while num in m:\n",
    "                num = int(random.randint(0, length-1))\n",
    "\n",
    "            m[num]=1\n",
    "\n",
    "\n",
    "        plt.subplot(subplot_params[\"nrows\"], subplot_params[\"ncols\"], i+1)\n",
    "        img = cv2.imread(testing_dir+\"/\"+ file_names[num], 1)\n",
    "        plt.imshow(img)\n",
    "\n",
    "        plt.xticks([])\n",
    "        plt.yticks([])\n",
    "        \n",
    "        \n",
    "        original = class_map[y_true[num]]\n",
    "        predicted = class_map[y_pred[num]]\n",
    "        \n",
    "        \n",
    "        title_text = (\"%s%s%s%s%s\"%(\"True: \", original, \"\\n\", \"Pred: \", predicted))\n",
    "        print(predicted)\n",
    "        print(title_text)\n",
    "        print('san')\n",
    "        print(y_true[num])\n",
    "        \n",
    "        if original==predicted:\n",
    "            plt.title(title_text)\n",
    "        else:\n",
    "            plt.title(title_text, color='red')\n",
    "\n",
    "    plt.tight_layout()\n",
    "    plt.show()"
   ]
  },
  {
   "cell_type": "code",
   "execution_count": 20,
   "metadata": {},
   "outputs": [
    {
     "name": "stdout",
     "output_type": "stream",
     "text": [
      "N\n",
      "True: P\n",
      "Pred: N\n",
      "san\n",
      "1\n"
     ]
    },
    {
     "data": {
      "image/png": "[encoded data removed]",
      "text/plain": [
       "<Figure size 250x250 with 1 Axes>"
      ]
     },
     "metadata": {},
     "output_type": "display_data"
    }
   ],
   "source": [
    "count = 1\n",
    "show_predictions(y_true, y_pred, subplot_params, plot_params, class_map, testing_dir, count=count, sample=True)"
   ]
  },
  {
   "cell_type": "code",
   "execution_count": 15,
   "metadata": {},
   "outputs": [],
   "source": [
    "def get_fig_axs(subplot_params):\n",
    "    fig, axs = plt.subplots(\n",
    "        nrows=subplot_params[\"nrows\"], ncols=subplot_params[\"ncols\"], \n",
    "        figsize=(subplot_params[\"figsize_col\"], subplot_params[\"figsize_row\"]),\n",
    "        dpi=subplot_params[\"dpi\"], facecolor=subplot_params[\"facecolor\"], \n",
    "        edgecolor=subplot_params[\"edgecolor\"], subplot_kw=subplot_params[\"subplot_kw\"])\n",
    "        \n",
    "    return fig, axs"
   ]
  },
  {
   "cell_type": "code",
   "execution_count": 3,
   "metadata": {},
   "outputs": [],
   "source": [
    "import matplotlib.pyplot as plt"
   ]
  },
  {
   "cell_type": "code",
   "execution_count": 4,
   "metadata": {},
   "outputs": [],
   "source": [
    "import random"
   ]
  },
  {
   "cell_type": "code",
   "execution_count": 5,
   "metadata": {},
   "outputs": [],
   "source": [
    "import cv2"
   ]
  },
  {
   "cell_type": "code",
   "execution_count": 6,
   "metadata": {},
   "outputs": [],
   "source": [
    "predicted = y_pred[0]"
   ]
  },
  {
   "cell_type": "code",
   "execution_count": 33,
   "metadata": {},
   "outputs": [
    {
     "name": "stdout",
     "output_type": "stream",
     "text": [
      "0\n"
     ]
    }
   ],
   "source": [
    "print(pred[0])"
   ]
  },
  {
   "cell_type": "code",
   "execution_count": null,
   "metadata": {},
   "outputs": [],
   "source": [
    "predict(x, batch_size=None, verbose=0, steps=None, callbacks=None, max_queue_size=10, workers=1, use_multiprocessing=False)"
   ]
  }
 ],
 "metadata": {
  "kernelspec": {
   "display_name": "Python 3",
   "language": "python",
   "name": "python3"
  },
  "language_info": {
   "codemirror_mode": {
    "name": "ipython",
    "version": 3
   },
   "file_extension": ".py",
   "mimetype": "text/x-python",
   "name": "python",
   "nbconvert_exporter": "python",
   "pygments_lexer": "ipython3",
   "version": "3.6.9"
  }
 },
 "nbformat": 4,
 "nbformat_minor": 2
}
